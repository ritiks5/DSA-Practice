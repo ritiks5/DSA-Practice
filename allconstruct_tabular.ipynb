{
 "cells": [
  {
   "cell_type": "code",
   "execution_count": 7,
   "metadata": {},
   "outputs": [
    {
     "name": "stdout",
     "output_type": "stream",
     "text": [
      "[['pot', 'ato']]\n",
      "[['enter', 'a', 'p', 'ot', 'ent', 'p', 'ot'], ['enter', 'a', 'p', 'o', 't', 'ent', 'p', 'ot'], ['enter', 'a', 'p', 'ot', 'ent', 'p', 'o', 't'], ['enter', 'a', 'p', 'o', 't', 'ent', 'p', 'o', 't']]\n"
     ]
    }
   ],
   "source": [
    "# O(n^m) time and space\n",
    " \n",
    "def allConstruct(target, wordbank):\n",
    "    \n",
    "    table = [[] for _ in range(len(target) + 1)]\n",
    "    table[0] = [[]] \n",
    "\n",
    "    for i in range(len(target) + 1):\n",
    "        if table[i] != []:\n",
    "            for word in wordbank:\n",
    "                if target[i:i + len(word)] == word:\n",
    "                    new_combinations = [combination + [word] for combination in table[i]]\n",
    "                    if i + len(word) <= len(target):\n",
    "                        table[i + len(word)].extend(new_combinations)\n",
    "\n",
    "    return table[len(target)]\n",
    "\n",
    "\n",
    "print(allConstruct('potato', ['pot', 'po', 'ot', 'at', 'ato']))  # Output: [['pot', 'ato'], ['po', 't', 'ato']]\n",
    "print(allConstruct('enterapotentpot', ['a', 'p', 'ent', 'enter', 'ot', 'o', 't']))  \n",
    "# Output: [['enter', 'a', 'p', 'ot', 'ent', 'p', 'ot'], ['enter', 'a', 'p', 'ot', 'ent', 'pot'], ...]\n",
    "\n",
    "\n",
    "\n",
    "\n"
   ]
  }
 ],
 "metadata": {
  "kernelspec": {
   "display_name": "base",
   "language": "python",
   "name": "python3"
  },
  "language_info": {
   "codemirror_mode": {
    "name": "ipython",
    "version": 3
   },
   "file_extension": ".py",
   "mimetype": "text/x-python",
   "name": "python",
   "nbconvert_exporter": "python",
   "pygments_lexer": "ipython3",
   "version": "3.10.9"
  }
 },
 "nbformat": 4,
 "nbformat_minor": 2
}
