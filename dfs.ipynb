{
 "cells": [
  {
   "cell_type": "code",
   "execution_count": 15,
   "metadata": {},
   "outputs": [
    {
     "name": "stdout",
     "output_type": "stream",
     "text": [
      "a --> c --> e --> b --> d --> f --> \n",
      " {'a', 'd', 'e', 'c', 'f', 'b'}\n",
      "bfs\n",
      "a -->b -->c -->d -->e -->f -->\n",
      " {'a', 'd', 'e', 'c', 'f', 'b'}\n",
      "a --> b --> d --> f --> c --> e --> "
     ]
    }
   ],
   "source": [
    "def dfs(graph,source):\n",
    "\n",
    "    if source not in graph:\n",
    "        return None\n",
    "\n",
    "    stack = [source]\n",
    "    visited = set()\n",
    "\n",
    "    while stack:\n",
    "        source = stack.pop()\n",
    "        visited.add(source)\n",
    "        print(source,'--> ',end='')\n",
    "        for neighbour in graph[source]:\n",
    "            if neighbour not in visited:\n",
    "                stack.append(neighbour)\n",
    "\n",
    "    print('\\n',visited)\n",
    "\n",
    "def dfs_recursive(graph,source,visited):\n",
    "    print(source,'--> ',end='')\n",
    "    visited.add(source)\n",
    "    for neighbour in graph[source]:\n",
    "        if neighbour not in visited :\n",
    "            dfs_recursive(graph,neighbour,visited)\n",
    "\n",
    "def bfs(graph,source):\n",
    "    print('bfs')\n",
    "    if source not in graph:\n",
    "        return None\n",
    "    \n",
    "    queue = [source]\n",
    "    visited = set()\n",
    "\n",
    "    while queue:\n",
    "        source = queue.pop(0)\n",
    "        print(source,'-->',end='')\n",
    "        visited.add(source)\n",
    "        for neighbour in graph[source]:\n",
    "            if neighbour not in visited:\n",
    "                queue.append(neighbour)\n",
    "\n",
    "    print('\\n',visited)\n",
    "\n",
    "\n",
    "\n",
    "\n",
    "graph = {\n",
    "    'a':['b','c'],\n",
    "    'b':['d'],\n",
    "    'c':['e'],\n",
    "    'd':['f'],\n",
    "    'e':['a'],\n",
    "    'f':[]\n",
    "}\n",
    "dfs(graph,'a')\n",
    "bfs(graph,'a')\n",
    "dfs_recursive(graph,'a',set())\n"
   ]
  }
 ],
 "metadata": {
  "kernelspec": {
   "display_name": "base",
   "language": "python",
   "name": "python3"
  },
  "language_info": {
   "codemirror_mode": {
    "name": "ipython",
    "version": 3
   },
   "file_extension": ".py",
   "mimetype": "text/x-python",
   "name": "python",
   "nbconvert_exporter": "python",
   "pygments_lexer": "ipython3",
   "version": "3.10.9"
  }
 },
 "nbformat": 4,
 "nbformat_minor": 2
}
