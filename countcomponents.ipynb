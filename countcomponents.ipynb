{
 "cells": [
  {
   "cell_type": "code",
   "execution_count": 5,
   "metadata": {},
   "outputs": [
    {
     "name": "stdout",
     "output_type": "stream",
     "text": [
      "2\n"
     ]
    }
   ],
   "source": [
    "def connected_components(graph):\n",
    "    visited = set()\n",
    "    count = 0\n",
    "    for node in graph:\n",
    "        if explore(graph,node,visited) == True:\n",
    "            count += 1\n",
    "\n",
    "    return count \n",
    "\n",
    "def explore(graph,current,visited):\n",
    "    if current in visited:\n",
    "        return False\n",
    "\n",
    "    visited.add(current)\n",
    "\n",
    "    for neighbour in graph[current]:\n",
    "        explore(graph,neighbour,visited)\n",
    "\n",
    "    return True\n",
    "    \n",
    "\n",
    "\n",
    "graph = {\n",
    "    0:[0,1,5],\n",
    "    1:[0],\n",
    "    5:[0,8],\n",
    "    8:[0,5],\n",
    "    2:[3,4],\n",
    "    3:[2,4],\n",
    "    4:[3,2]\n",
    "}\n",
    "print(connected_components(graph))\n",
    "\n"
   ]
  }
 ],
 "metadata": {
  "kernelspec": {
   "display_name": "base",
   "language": "python",
   "name": "python3"
  },
  "language_info": {
   "codemirror_mode": {
    "name": "ipython",
    "version": 3
   },
   "file_extension": ".py",
   "mimetype": "text/x-python",
   "name": "python",
   "nbconvert_exporter": "python",
   "pygments_lexer": "ipython3",
   "version": "3.10.9"
  }
 },
 "nbformat": 4,
 "nbformat_minor": 2
}
