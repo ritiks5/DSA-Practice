{
 "cells": [
  {
   "cell_type": "code",
   "execution_count": 12,
   "metadata": {},
   "outputs": [
    {
     "name": "stdout",
     "output_type": "stream",
     "text": [
      "True\n",
      "True\n"
     ]
    }
   ],
   "source": [
    "def haspath_dfs(graph,source,target):\n",
    "    if source is None or source not in graph: return None\n",
    "\n",
    "    stack = [source]\n",
    "    visited = set()\n",
    "\n",
    "    path = ''\n",
    "\n",
    "    while stack:\n",
    "        current = stack.pop()\n",
    "        visited.add(current)\n",
    "        if current == target:\n",
    "            return True\n",
    "        for neighbour in graph[current]:\n",
    "            if neighbour not in visited:\n",
    "                stack.append(neighbour)\n",
    "\n",
    "    return False\n",
    "\n",
    "def haspath_bfs(graph,source,target):\n",
    "    if source is None or source not in graph: return None\n",
    "\n",
    "    queue = [source]\n",
    "    visited = set()\n",
    "\n",
    "    path = ''\n",
    "\n",
    "    while queue:\n",
    "        current = queue.pop(0)\n",
    "        visited.add(current)\n",
    "        if current == target:\n",
    "            return True\n",
    "        for neighbour in graph[current]:\n",
    "            if neighbour not in visited:\n",
    "                queue.append(neighbour)\n",
    "\n",
    "    return False\n",
    "\n",
    "\n",
    "\n",
    "\n",
    "graph = {\n",
    "    'f':['g','i'],\n",
    "    'g':['h'],\n",
    "    'h':[],\n",
    "    'i':['g','k'],\n",
    "    'j':['i'],\n",
    "    'k':[]\n",
    "}\n",
    "print(haspath_dfs(graph,'f','k'))\n",
    "print(haspath_bfs(graph,'f','k'))"
   ]
  },
  {
   "cell_type": "code",
   "execution_count": 13,
   "metadata": {},
   "outputs": [
    {
     "name": "stdout",
     "output_type": "stream",
     "text": [
      "{'i': ['j', 'k'], 'j': ['i'], 'k': ['i', 'm', 'l'], 'm': ['k'], 'l': ['k'], 'o': ['n'], 'n': ['o']}\n"
     ]
    }
   ],
   "source": [
    "edges = [\n",
    "    ['i','j'],\n",
    "    ['k','i'],\n",
    "    ['m','k'],\n",
    "    ['k','l'],\n",
    "    ['o','n']\n",
    "]\n",
    "\n",
    "graph = {}\n",
    "\n",
    "for edge in edges:\n",
    "    a,b = edge\n",
    "    if a not in graph: graph[a] = []\n",
    "    if b not in graph: graph[b] = []\n",
    "    graph[a].append(b)\n",
    "    graph[b].append(a)\n",
    "\n",
    "print(graph)"
   ]
  }
 ],
 "metadata": {
  "kernelspec": {
   "display_name": "base",
   "language": "python",
   "name": "python3"
  },
  "language_info": {
   "codemirror_mode": {
    "name": "ipython",
    "version": 3
   },
   "file_extension": ".py",
   "mimetype": "text/x-python",
   "name": "python",
   "nbconvert_exporter": "python",
   "pygments_lexer": "ipython3",
   "version": "3.10.9"
  }
 },
 "nbformat": 4,
 "nbformat_minor": 2
}
