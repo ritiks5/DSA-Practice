{
 "cells": [
  {
   "cell_type": "code",
   "execution_count": 5,
   "metadata": {},
   "outputs": [
    {
     "name": "stdout",
     "output_type": "stream",
     "text": [
      "[11, 43, 12, 54, 67, 98, 110, 82]\n",
      "[1, 11, 12, 43, 67, 98, 110, 82, 54, 191, 87]\n",
      "1\n",
      "[11, 43, 12, 54, 67, 98, 110, 82, 87, 191]\n"
     ]
    }
   ],
   "source": [
    "import heapq\n",
    "\n",
    "ls = [12,43,11,54,67,98,110,82]\n",
    "heapq.heapify(ls)\n",
    "print(ls)\n",
    "heapq.heappush(ls,1)\n",
    "heapq.heappush(ls,191)\n",
    "heapq.heappush(ls,87)\n",
    "print(ls)\n",
    "smallest = heapq.heappop(ls)\n",
    "print(smallest)\n",
    "print(ls)"
   ]
  },
  {
   "cell_type": "code",
   "execution_count": 10,
   "metadata": {},
   "outputs": [
    {
     "name": "stdout",
     "output_type": "stream",
     "text": [
      "[3, 4, 7, 81]\n",
      "3\n",
      "[4, 81, 7]\n"
     ]
    }
   ],
   "source": [
    "heap =[]\n",
    "\n",
    "heapq.heappush(heap, 4)\n",
    "heapq.heappush(heap, 1)\n",
    "heapq.heappush(heap, 7)\n",
    "heapq.heappush(heap, 3)\n",
    "heapq.heappushpop(heap,81)\n",
    "\n",
    "print(heap)  # Output: [1, 3, 7, 4]\n",
    "\n",
    "# Pop elements from the heap\n",
    "print(heapq.heappop(heap))  # Output: 1\n",
    "print(heap)  # Output: [3, 4, 7]"
   ]
  },
  {
   "cell_type": "code",
   "execution_count": 7,
   "metadata": {},
   "outputs": [
    {
     "name": "stdout",
     "output_type": "stream",
     "text": [
      "90\n",
      "\n"
     ]
    }
   ],
   "source": [
    "import heapq\n",
    "stones = [2,4,5,67,8,90,54]\n",
    "\n",
    "stones = [-i for i in stones]\n",
    "heapq.heapify(stones)\n",
    "# print(heapq.heappush(stones,-98))\n",
    "print(-heapq.heappop(stones))\n",
    "\n",
    "print()"
   ]
  }
 ],
 "metadata": {
  "kernelspec": {
   "display_name": "base",
   "language": "python",
   "name": "python3"
  },
  "language_info": {
   "codemirror_mode": {
    "name": "ipython",
    "version": 3
   },
   "file_extension": ".py",
   "mimetype": "text/x-python",
   "name": "python",
   "nbconvert_exporter": "python",
   "pygments_lexer": "ipython3",
   "version": "3.10.9"
  }
 },
 "nbformat": 4,
 "nbformat_minor": 2
}
