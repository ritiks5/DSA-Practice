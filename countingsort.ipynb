{
 "cells": [
  {
   "cell_type": "code",
   "execution_count": 10,
   "metadata": {},
   "outputs": [
    {
     "name": "stdout",
     "output_type": "stream",
     "text": [
      "{32: 1, 43: 1, 55: 1, 33: 1, 11: 1, 222: 2, 67: 1, 89: 1}\n",
      "{11: 1, 32: 1, 33: 1, 43: 1, 55: 1, 67: 1, 89: 1, 222: 2}\n",
      "[11, 32, 33, 43, 55, 67, 89, 222, 222]\n"
     ]
    }
   ],
   "source": [
    "def countingsort(arr):\n",
    "    output = []\n",
    "    count = {}\n",
    "    for i in arr:\n",
    "        count[i] = count.get(i,0) + 1\n",
    "    print(count)\n",
    "    count = dict(sorted(count.items()))\n",
    "    print(count)\n",
    "\n",
    "    for i in count.keys():\n",
    "        output.extend([i]*count[i])\n",
    "\n",
    "    print(output)\n",
    "\n",
    "\n",
    "if __name__ == '__main__':\n",
    "    arr = [32,43,55,33,11,222,67,89,222]\n",
    "    countingsort(arr)\n"
   ]
  }
 ],
 "metadata": {
  "kernelspec": {
   "display_name": "base",
   "language": "python",
   "name": "python3"
  },
  "language_info": {
   "codemirror_mode": {
    "name": "ipython",
    "version": 3
   },
   "file_extension": ".py",
   "mimetype": "text/x-python",
   "name": "python",
   "nbconvert_exporter": "python",
   "pygments_lexer": "ipython3",
   "version": "3.10.9"
  }
 },
 "nbformat": 4,
 "nbformat_minor": 2
}
