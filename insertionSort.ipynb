{
 "cells": [
  {
   "cell_type": "code",
   "execution_count": 2,
   "metadata": {},
   "outputs": [
    {
     "name": "stdout",
     "output_type": "stream",
     "text": [
      "[11, 32, 33, 43, 55, 67, 89, 222]\n"
     ]
    }
   ],
   "source": [
    "def insertionsort(a):\n",
    "\n",
    "    for j in range(1,len(a)):\n",
    "        key = a[j]\n",
    "        i = j-1\n",
    "\n",
    "        while i>=0 and a[i]>key:\n",
    "            a[i+1] = a[i]\n",
    "            i-=1\n",
    "        a[i+1] = key\n",
    "\n",
    "    return a\n",
    "\n",
    "if __name__ == '__main__':\n",
    "    arr = [32,43,55,33,11,222,67,89]\n",
    "    a = insertionsort(arr)\n",
    "    print(a)\n"
   ]
  }
 ],
 "metadata": {
  "kernelspec": {
   "display_name": "base",
   "language": "python",
   "name": "python3"
  },
  "language_info": {
   "codemirror_mode": {
    "name": "ipython",
    "version": 3
   },
   "file_extension": ".py",
   "mimetype": "text/x-python",
   "name": "python",
   "nbconvert_exporter": "python",
   "pygments_lexer": "ipython3",
   "version": "3.10.9"
  }
 },
 "nbformat": 4,
 "nbformat_minor": 2
}
