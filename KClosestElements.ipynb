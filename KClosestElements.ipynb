{
 "cells": [
  {
   "cell_type": "code",
   "execution_count": 5,
   "metadata": {},
   "outputs": [
    {
     "name": "stdout",
     "output_type": "stream",
     "text": [
      "[3, 2, 6]\n"
     ]
    }
   ],
   "source": [
    "import heapq\n",
    "def Kclosest(n,arr,k,x):\n",
    "    d=dict()\n",
    "    for i in arr:\n",
    "        d[i]=abs(i-x)\n",
    "    d = {key: value for key, value in d.items() if value != 0}\n",
    "    k_smallest_items = heapq.nsmallest(k, d.items(), key=lambda item: item[1])\n",
    "\n",
    "    # Extract the keys from the smallest items\n",
    "    k_smallest_keys = [item[0] for item in k_smallest_items]\n",
    "    return k_smallest_keys\n",
    "\n",
    "\n",
    "n = 5\n",
    "arr = {1, 2, 3, 6, 10}\n",
    "k = 3\n",
    "x = 4\n",
    "print(Kclosest(n,arr,k,x))"
   ]
  }
 ],
 "metadata": {
  "kernelspec": {
   "display_name": "base",
   "language": "python",
   "name": "python3"
  },
  "language_info": {
   "codemirror_mode": {
    "name": "ipython",
    "version": 3
   },
   "file_extension": ".py",
   "mimetype": "text/x-python",
   "name": "python",
   "nbconvert_exporter": "python",
   "pygments_lexer": "ipython3",
   "version": "3.10.9"
  }
 },
 "nbformat": 4,
 "nbformat_minor": 2
}
