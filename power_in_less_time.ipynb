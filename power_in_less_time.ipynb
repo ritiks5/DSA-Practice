{
 "cells": [
  {
   "cell_type": "code",
   "execution_count": 1,
   "metadata": {},
   "outputs": [
    {
     "name": "stdout",
     "output_type": "stream",
     "text": [
      "243\n"
     ]
    }
   ],
   "source": [
    "def power(x,n):\n",
    "    ans = 1\n",
    "    while n>0:\n",
    "        if n%2==1:\n",
    "            ans*=x\n",
    "            n-=1\n",
    "\n",
    "        x*=x\n",
    "        n//=2\n",
    "\n",
    "    return ans\n",
    "\n",
    "print(power(3,5))\n",
    "\n",
    "    "
   ]
  }
 ],
 "metadata": {
  "kernelspec": {
   "display_name": "base",
   "language": "python",
   "name": "python3"
  },
  "language_info": {
   "codemirror_mode": {
    "name": "ipython",
    "version": 3
   },
   "file_extension": ".py",
   "mimetype": "text/x-python",
   "name": "python",
   "nbconvert_exporter": "python",
   "pygments_lexer": "ipython3",
   "version": "3.10.9"
  }
 },
 "nbformat": 4,
 "nbformat_minor": 2
}
