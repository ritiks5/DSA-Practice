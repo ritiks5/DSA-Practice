{
 "cells": [
  {
   "cell_type": "code",
   "execution_count": 1,
   "metadata": {},
   "outputs": [
    {
     "name": "stdout",
     "output_type": "stream",
     "text": [
      "[6, 3, 4, 1, 5, 2, 3, 0]\n"
     ]
    }
   ],
   "source": [
    "def subset_sum(result , arr , index , sum):\n",
    "    if index == len(arr):\n",
    "        result.append(sum)\n",
    "        return\n",
    "    \n",
    "    subset_sum(result,arr,index+1,sum+arr[index])\n",
    "    subset_sum(result,arr,index+1,sum)\n",
    "\n",
    "\n",
    "array = [1,2,3]\n",
    "result = []\n",
    "index =0\n",
    "sum = 0\n",
    "subset_sum(result,array,index,sum)\n",
    "print(result)"
   ]
  },
  {
   "cell_type": "code",
   "execution_count": 4,
   "metadata": {},
   "outputs": [
    {
     "name": "stdout",
     "output_type": "stream",
     "text": [
      "[[], [3], [2], [2, 3], [1], [1, 3], [1, 2], [1, 2, 3]]\n"
     ]
    }
   ],
   "source": [
    "def subsets(result, subset, arr , index):\n",
    "    if index == len(arr):\n",
    "        result.append(subset[:])\n",
    "        return\n",
    "    \n",
    "    subsets(result ,subset , arr ,index + 1)\n",
    "    subset.append(arr[index])\n",
    "\n",
    "    subsets(result ,subset , arr ,index + 1)\n",
    "    subset.pop()\n",
    "\n",
    "\n",
    "array = [1,2,3]\n",
    "result = []\n",
    "index =0\n",
    "subset = []\n",
    "# sum = 0\n",
    "subsets(result,subset,array,index)\n",
    "print(result)"
   ]
  },
  {
   "cell_type": "code",
   "execution_count": null,
   "metadata": {},
   "outputs": [],
   "source": [
    "# "
   ]
  }
 ],
 "metadata": {
  "kernelspec": {
   "display_name": "base",
   "language": "python",
   "name": "python3"
  },
  "language_info": {
   "codemirror_mode": {
    "name": "ipython",
    "version": 3
   },
   "file_extension": ".py",
   "mimetype": "text/x-python",
   "name": "python",
   "nbconvert_exporter": "python",
   "pygments_lexer": "ipython3",
   "version": "3.10.9"
  }
 },
 "nbformat": 4,
 "nbformat_minor": 2
}
