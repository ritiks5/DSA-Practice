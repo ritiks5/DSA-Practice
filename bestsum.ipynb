{
 "cells": [
  {
   "cell_type": "code",
   "execution_count": 4,
   "metadata": {},
   "outputs": [
    {
     "name": "stdout",
     "output_type": "stream",
     "text": [
      "[7]\n",
      "[4, 5, 5]\n",
      "None\n"
     ]
    }
   ],
   "source": [
    "# recursive\n",
    "# time : O(m*n^m)\n",
    "# space = O(m^2)\n",
    "\n",
    "def bestsum(target,nums):\n",
    "    if target == 0 : return []\n",
    "    if target < 0 : return None\n",
    "\n",
    "    shortest = None\n",
    "\n",
    "    for num in nums:\n",
    "        rem = target - num\n",
    "        rem_combination = bestsum(rem, nums)\n",
    "        if rem_combination is not None:\n",
    "            combination = rem_combination + [num]\n",
    "            if shortest is None or len(combination) < len(shortest):\n",
    "                shortest = combination\n",
    "\n",
    "\n",
    "    return shortest\n",
    "\n",
    "print(bestsum(7,[5,3,4,7]))\n",
    "print(bestsum(14,[5,3,4]))\n",
    "print(bestsum(27,[2]))\n",
    "# print(bestsum(300,[14,7]))\n"
   ]
  },
  {
   "cell_type": "code",
   "execution_count": 9,
   "metadata": {},
   "outputs": [
    {
     "name": "stdout",
     "output_type": "stream",
     "text": [
      "[7]\n",
      "[4, 5, 5]\n",
      "None\n",
      "[25, 25, 25, 25]\n"
     ]
    }
   ],
   "source": [
    "# memoized\n",
    "# time : O(m^2*n)\n",
    "# space = O(m^2)\n",
    "\n",
    "def bestsum(target,nums, memo = None):\n",
    "    if memo is None:\n",
    "        memo = {}\n",
    "\n",
    "    if target in memo : return memo[target]\n",
    "    if target == 0 : return []\n",
    "    if target < 0 : return None\n",
    "\n",
    "    shortest = None\n",
    "\n",
    "    for num in nums:\n",
    "        rem = target - num\n",
    "        rem_combination = bestsum(rem, nums,memo)\n",
    "        if rem_combination is not None:\n",
    "            combination = rem_combination + [num]\n",
    "            if shortest is None or len(combination) < len(shortest):\n",
    "                shortest = combination\n",
    "\n",
    "    memo[target] = shortest\n",
    "    return shortest\n",
    "\n",
    "print(bestsum(7,[5,3,4,7]))\n",
    "print(bestsum(14,[5,3,4]))\n",
    "print(bestsum(27,[2]))\n",
    "print(bestsum(100,[1,2,5,25]))"
   ]
  },
  {
   "cell_type": "code",
   "execution_count": 5,
   "metadata": {},
   "outputs": [
    {
     "name": "stdout",
     "output_type": "stream",
     "text": [
      "[7]\n",
      "[4, 5, 5]\n",
      "None\n",
      "None\n"
     ]
    }
   ],
   "source": [
    "def bestsum(target:int , nums:list , memo = None):\n",
    "\n",
    "    if memo is None : \n",
    "        memo = {}\n",
    "\n",
    "    if target in memo: return memo[target]\n",
    "    if target == 0 : return []\n",
    "    if target < 0 : return None\n",
    "\n",
    "    shortest = None\n",
    "\n",
    "    for num in nums :\n",
    "        rem = target - num\n",
    "        rem_combination = bestsum(rem , nums, memo)\n",
    "\n",
    "        if rem_combination is not None:\n",
    "            combination = rem_combination + [num]\n",
    "            if shortest is None or len(shortest) > len(combination):\n",
    "                shortest = combination\n",
    "    memo[target] = shortest\n",
    "    return shortest\n",
    "\n",
    "print(bestsum(7,[5,3,4,7]))\n",
    "print(bestsum(14,[5,3,4]))\n",
    "print(bestsum(27,[2]))\n",
    "print(bestsum(300,[7,21]))\n",
    "        "
   ]
  }
 ],
 "metadata": {
  "kernelspec": {
   "display_name": "base",
   "language": "python",
   "name": "python3"
  },
  "language_info": {
   "codemirror_mode": {
    "name": "ipython",
    "version": 3
   },
   "file_extension": ".py",
   "mimetype": "text/x-python",
   "name": "python",
   "nbconvert_exporter": "python",
   "pygments_lexer": "ipython3",
   "version": "3.10.9"
  }
 },
 "nbformat": 4,
 "nbformat_minor": 2
}
