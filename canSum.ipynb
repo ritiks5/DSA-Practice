{
 "cells": [
  {
   "cell_type": "code",
   "execution_count": 6,
   "metadata": {},
   "outputs": [
    {
     "name": "stdout",
     "output_type": "stream",
     "text": [
      "True\n",
      "True\n",
      "False\n"
     ]
    }
   ],
   "source": [
    "def cansum_recursion(target:int,nums:list):\n",
    "    if target==0:return True\n",
    "    if target<0:return False\n",
    "\n",
    "    for num in nums:\n",
    "        remainder = target - num\n",
    "        if cansum_recursion(remainder,nums):\n",
    "            return True\n",
    "        \n",
    "    return False\n",
    "        \n",
    "\n",
    "print(cansum_recursion(7,[5,3,4,7]))\n",
    "print(cansum_recursion(14,[5,3,4]))\n",
    "print(cansum_recursion(27,[2]))\n",
    "# print(cansum_recursion(300,[14,7]))"
   ]
  },
  {
   "cell_type": "code",
   "execution_count": 10,
   "metadata": {},
   "outputs": [
    {
     "name": "stdout",
     "output_type": "stream",
     "text": [
      "True\n",
      "True\n",
      "False\n",
      "False\n"
     ]
    }
   ],
   "source": [
    "def cansum(target:int,nums:list,memo=None):\n",
    "    if memo is None:\n",
    "        memo = {}\n",
    "    \n",
    "    if target in memo : return memo[target]\n",
    "    if target==0:return True\n",
    "    if target<0:return False\n",
    "\n",
    "    for num in nums:\n",
    "        remainder = target - num\n",
    "        if cansum(remainder,nums,memo) == True:\n",
    "            memo[target] = True \n",
    "            return True\n",
    "    memo[target] = False    \n",
    "    return False\n",
    "        \n",
    "\n",
    "print(cansum(7,[5,3,4,7]))\n",
    "print(cansum(14,[5,3,4]))\n",
    "print(cansum(27,[2]))\n",
    "print(cansum(300,[14,7]))"
   ]
  }
 ],
 "metadata": {
  "kernelspec": {
   "display_name": "base",
   "language": "python",
   "name": "python3"
  },
  "language_info": {
   "codemirror_mode": {
    "name": "ipython",
    "version": 3
   },
   "file_extension": ".py",
   "mimetype": "text/x-python",
   "name": "python",
   "nbconvert_exporter": "python",
   "pygments_lexer": "ipython3",
   "version": "3.10.9"
  }
 },
 "nbformat": 4,
 "nbformat_minor": 2
}
