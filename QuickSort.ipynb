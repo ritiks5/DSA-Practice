{
 "cells": [
  {
   "cell_type": "code",
   "execution_count": 3,
   "metadata": {},
   "outputs": [
    {
     "name": "stdout",
     "output_type": "stream",
     "text": [
      "[11, 32, 33, 43, 55, 67, 89, 222]\n"
     ]
    }
   ],
   "source": [
    "def partition(arr,p,r):\n",
    "    x = arr[r]\n",
    "    i = p-1\n",
    "\n",
    "    for j in range(p,r):\n",
    "        if arr[j] <= x :\n",
    "            i +=1 \n",
    "            arr[i],arr[j] = arr[j],arr[i]\n",
    "\n",
    "    arr[i+1],arr[r] = arr[r],arr[i+1]\n",
    "    return i+1 \n",
    "\n",
    "\n",
    "\n",
    "def quicksort(arr,low, high):\n",
    "    if low<=high:\n",
    "        q = partition(arr,low,high)\n",
    "        quicksort(arr,low,q-1)\n",
    "        quicksort(arr,q+1,high)\n",
    "\n",
    "\n",
    "\n",
    "if __name__ == '__main__':\n",
    "    arr = [32,43,55,33,11,222,67,89]\n",
    "    quicksort(arr,0,7)\n",
    "    print(arr)"
   ]
  }
 ],
 "metadata": {
  "kernelspec": {
   "display_name": "base",
   "language": "python",
   "name": "python3"
  },
  "language_info": {
   "codemirror_mode": {
    "name": "ipython",
    "version": 3
   },
   "file_extension": ".py",
   "mimetype": "text/x-python",
   "name": "python",
   "nbconvert_exporter": "python",
   "pygments_lexer": "ipython3",
   "version": "3.11.1"
  }
 },
 "nbformat": 4,
 "nbformat_minor": 2
}
