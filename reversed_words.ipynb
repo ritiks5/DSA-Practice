{
 "cells": [
  {
   "cell_type": "code",
   "execution_count": 6,
   "metadata": {},
   "outputs": [
    {
     "name": "stdout",
     "output_type": "stream",
     "text": [
      "['The', 'Quick', 'Brown', '', 'Fox', 'Jumps', 'over', 'Lazy', 'Dogs']\n",
      "['The', 'Quick', 'Brown', 'Fox', 'Jumps', 'over', 'Lazy', 'Dogs']\n",
      "Eht Kciuq Nworb Xof Spmuj Revo Yzal Sgod\n"
     ]
    }
   ],
   "source": [
    "def reverse(sentence):\n",
    "    words=sentence.split(' ')\n",
    "    print(words)\n",
    "    words = [word for word in words if len(word)>0]\n",
    "    print(words)\n",
    "\n",
    "    i=0\n",
    "    while i<len(words):\n",
    "        words[i] = words[i][::-1].lower()\n",
    "        words[i] = words[i].capitalize()\n",
    "        i+=1\n",
    "\n",
    "\n",
    "    rev_sentence = ' '.join(words)\n",
    "    # print(rev_sentence)\n",
    "    return rev_sentence\n",
    "\n",
    "sentence = \"The Quick Brown  Fox Jumps over Lazy Dogs\"\n",
    "rev_sentence = reverse(sentence)\n",
    "print(rev_sentence)\n"
   ]
  }
 ],
 "metadata": {
  "kernelspec": {
   "display_name": "base",
   "language": "python",
   "name": "python3"
  },
  "language_info": {
   "codemirror_mode": {
    "name": "ipython",
    "version": 3
   },
   "file_extension": ".py",
   "mimetype": "text/x-python",
   "name": "python",
   "nbconvert_exporter": "python",
   "pygments_lexer": "ipython3",
   "version": "3.10.9"
  }
 },
 "nbformat": 4,
 "nbformat_minor": 2
}
