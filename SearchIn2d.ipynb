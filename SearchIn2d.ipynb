{
 "cells": [
  {
   "cell_type": "code",
   "execution_count": 1,
   "metadata": {},
   "outputs": [],
   "source": [
    "def search(arr,target):\n",
    "    rows = len(arr)\n",
    "    cols = len(arr[0])\n",
    "\n",
    "    low = 0\n",
    "    high = rows*cols - 1\n",
    "\n",
    "    while low <= high :\n",
    "        mid = (low+high)//2\n",
    "        ele = arr[mid//cols][mid%cols]\n",
    "\n",
    "        if ele == target :\n",
    "            return True \n",
    "        \n",
    "        elif ele < target :\n",
    "            low = mid + 1\n",
    "\n",
    "        else:\n",
    "            high = mid - 1\n",
    "\n",
    "    return False"
   ]
  },
  {
   "cell_type": "code",
   "execution_count": 4,
   "metadata": {},
   "outputs": [
    {
     "name": "stdout",
     "output_type": "stream",
     "text": [
      "False\n"
     ]
    }
   ],
   "source": [
    "arr = [[1,3,5,7],[10,11,16,20],[23,30,34,60]]\n",
    "target = 39\n",
    "print(search(arr,target))"
   ]
  }
 ],
 "metadata": {
  "kernelspec": {
   "display_name": "base",
   "language": "python",
   "name": "python3"
  },
  "language_info": {
   "codemirror_mode": {
    "name": "ipython",
    "version": 3
   },
   "file_extension": ".py",
   "mimetype": "text/x-python",
   "name": "python",
   "nbconvert_exporter": "python",
   "pygments_lexer": "ipython3",
   "version": "3.10.9"
  }
 },
 "nbformat": 4,
 "nbformat_minor": 2
}
