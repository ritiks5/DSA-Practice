{
 "cells": [
  {
   "cell_type": "code",
   "execution_count": 3,
   "metadata": {},
   "outputs": [
    {
     "name": "stdout",
     "output_type": "stream",
     "text": [
      "4\n"
     ]
    }
   ],
   "source": [
    "def connected_components(graph):\n",
    "    visited = set()\n",
    "    max_count = 0\n",
    "\n",
    "    for node in graph:\n",
    "        max_count = max(max_count,count_size(graph,node,visited))\n",
    "\n",
    "    return max_count\n",
    "\n",
    "def count_size(graph,current,visited):\n",
    "    if current in visited:\n",
    "        return 0\n",
    "\n",
    "    visited.add(current)\n",
    "    size = 1\n",
    "\n",
    "    for neighbour in graph[current]:\n",
    "        size += count_size(graph,neighbour,visited)\n",
    "\n",
    "    return size\n",
    "    \n",
    "\n",
    "\n",
    "graph = {\n",
    "    0:[0,1,5],\n",
    "    1:[0],\n",
    "    5:[0,8],\n",
    "    8:[0,5],\n",
    "    2:[3,4],\n",
    "    3:[2,4],\n",
    "    4:[3,2]\n",
    "}\n",
    "print(connected_components(graph))"
   ]
  }
 ],
 "metadata": {
  "kernelspec": {
   "display_name": "base",
   "language": "python",
   "name": "python3"
  },
  "language_info": {
   "codemirror_mode": {
    "name": "ipython",
    "version": 3
   },
   "file_extension": ".py",
   "mimetype": "text/x-python",
   "name": "python",
   "nbconvert_exporter": "python",
   "pygments_lexer": "ipython3",
   "version": "3.10.9"
  }
 },
 "nbformat": 4,
 "nbformat_minor": 2
}
