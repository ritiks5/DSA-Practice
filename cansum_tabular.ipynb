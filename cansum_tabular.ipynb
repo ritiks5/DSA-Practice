{
 "cells": [
  {
   "cell_type": "code",
   "execution_count": 5,
   "metadata": {},
   "outputs": [
    {
     "name": "stdout",
     "output_type": "stream",
     "text": [
      "True\n",
      "True\n",
      "False\n",
      "False\n"
     ]
    }
   ],
   "source": [
    "def cansum(target:int,nums:list):\n",
    "    table = [False]*(target+1)\n",
    "    table[0] = True\n",
    "\n",
    "    for i in range(target):\n",
    "        if table[i] == True :\n",
    "            for num in nums:\n",
    "                if i+num <= target:\n",
    "                    table[i+num] = True\n",
    "\n",
    "    return table[target]\n",
    "\n",
    "\n",
    "print(cansum(7,[5,3,4,7]))\n",
    "print(cansum(14,[5,3,4]))\n",
    "print(cansum(27,[2]))\n",
    "print(cansum(300,[14,7]))\n",
    "\n",
    "\n",
    "\n"
   ]
  }
 ],
 "metadata": {
  "kernelspec": {
   "display_name": "base",
   "language": "python",
   "name": "python3"
  },
  "language_info": {
   "codemirror_mode": {
    "name": "ipython",
    "version": 3
   },
   "file_extension": ".py",
   "mimetype": "text/x-python",
   "name": "python",
   "nbconvert_exporter": "python",
   "pygments_lexer": "ipython3",
   "version": "3.10.9"
  }
 },
 "nbformat": 4,
 "nbformat_minor": 2
}
