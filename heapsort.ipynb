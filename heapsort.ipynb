{
 "cells": [
  {
   "cell_type": "code",
   "execution_count": 5,
   "metadata": {},
   "outputs": [
    {
     "name": "stdout",
     "output_type": "stream",
     "text": [
      "inside Function : \n",
      "heap :  [26]\n",
      "heap :  [26, 31]\n",
      "heap :  [25, 31, 26]\n",
      "heap :  [17, 25, 26, 31]\n",
      "heap :  [17, 25, 26, 31, 99]\n",
      "heap :  [2, 25, 17, 31, 99, 26]\n",
      "heap :  [2, 25, 17, 31, 99, 26, 24]\n",
      "heap :  [2, 16, 17, 25, 99, 26, 24, 31]\n",
      "heap :  [2, 16, 17, 25, 99, 26, 24, 31, 48]\n",
      "heap :  [0, 2, 17, 25, 16, 26, 24, 31, 48, 99]\n",
      "[0, 2, 16, 17, 24, 25, 26, 31, 48, 99]\n"
     ]
    }
   ],
   "source": [
    "import heapq\n",
    "\n",
    "def heapsort(arr):\n",
    "    print('inside Function : ')\n",
    "    h = []\n",
    "    for value in arr:\n",
    "        heapq.heappush(h, value)\n",
    "        print('heap : ', h)\n",
    "\n",
    "    return [heapq.heappop(h) for i in range(len(h))]\n",
    "\n",
    "if __name__ == '__main__':\n",
    "    arr = [26, 31, 25, 17, 99, 2, 24, 16, 48, 0]\n",
    "    print(heapsort(arr))\n",
    "\n",
    "\n",
    "\n"
   ]
  }
 ],
 "metadata": {
  "kernelspec": {
   "display_name": "base",
   "language": "python",
   "name": "python3"
  },
  "language_info": {
   "codemirror_mode": {
    "name": "ipython",
    "version": 3
   },
   "file_extension": ".py",
   "mimetype": "text/x-python",
   "name": "python",
   "nbconvert_exporter": "python",
   "pygments_lexer": "ipython3",
   "version": "3.10.9"
  }
 },
 "nbformat": 4,
 "nbformat_minor": 2
}
