{
 "cells": [
  {
   "cell_type": "code",
   "execution_count": 14,
   "metadata": {},
   "outputs": [
    {
     "name": "stdout",
     "output_type": "stream",
     "text": [
      "[0, 1, 1, 2, 3, 5, 8, 13, 21, 34, 55, 89, 144, 233, 377, 610, 987, 1597, 2584, 4181, 6765, 10946, 17711, 28657, 75025]\n"
     ]
    }
   ],
   "source": [
    "def fibtabulation(n:int):\n",
    "    if n==0: return 0\n",
    "    if n==1: return 1\n",
    "    table = [0]*(n+1)\n",
    "    table[1]=1\n",
    "\n",
    "    for i in range(n):\n",
    "        if i+1 <=n:\n",
    "            table[i+1] += table[i]\n",
    "        if i+2<=n:\n",
    "            table[i+2] += table[i]\n",
    "\n",
    "    table[-1] += table[-2]\n",
    "\n",
    "    print(table)\n",
    "\n",
    "fibtabulation(24)\n",
    "\n",
    "\n"
   ]
  }
 ],
 "metadata": {
  "kernelspec": {
   "display_name": "base",
   "language": "python",
   "name": "python3"
  },
  "language_info": {
   "codemirror_mode": {
    "name": "ipython",
    "version": 3
   },
   "file_extension": ".py",
   "mimetype": "text/x-python",
   "name": "python",
   "nbconvert_exporter": "python",
   "pygments_lexer": "ipython3",
   "version": "3.10.9"
  }
 },
 "nbformat": 4,
 "nbformat_minor": 2
}
