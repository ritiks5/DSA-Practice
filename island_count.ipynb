{
 "cells": [
  {
   "cell_type": "code",
   "execution_count": 8,
   "metadata": {},
   "outputs": [
    {
     "name": "stdout",
     "output_type": "stream",
     "text": [
      "1\n"
     ]
    }
   ],
   "source": [
    "def island_count(graph):\n",
    "    visited = set()\n",
    "    count = 0\n",
    "    rows = len(graph)\n",
    "    cols = len(graph[0])\n",
    "    for r in range(rows):\n",
    "        for c in range(cols):\n",
    "            if explore(graph,r,c,visited) :\n",
    "                count += 1\n",
    "\n",
    "    return count\n",
    "\n",
    "\n",
    "def explore(graph,r,c,visited):\n",
    "\n",
    "    rowbound = 0<=r<len(graph)\n",
    "    colbound = 0<=c<len(graph[0])\n",
    "\n",
    "    if not rowbound or not colbound :\n",
    "        return False\n",
    "\n",
    "    if graph[r][c] == 0 : return False\n",
    "\n",
    "    \n",
    "    \n",
    "    if (r,c) in visited: return False\n",
    "    visited.add((r,c))\n",
    "\n",
    "    explore(graph,r-1,c,visited)\n",
    "    explore(graph,r+1,c,visited)\n",
    "    explore(graph,r,c-1,visited)\n",
    "    explore(graph,r,c+1,visited)\n",
    "\n",
    "    return True\n",
    "    \n",
    "\n",
    "graph = [\n",
    "  [\"1\",\"1\",\"0\",\"0\",\"0\"],\n",
    "  [\"1\",\"1\",\"0\",\"0\",\"0\"],\n",
    "  [\"0\",\"0\",\"1\",\"0\",\"0\"],\n",
    "  [\"0\",\"0\",\"0\",\"1\",\"1\"]\n",
    "]\n",
    "print(island_count(graph))"
   ]
  }
 ],
 "metadata": {
  "kernelspec": {
   "display_name": "base",
   "language": "python",
   "name": "python3"
  },
  "language_info": {
   "codemirror_mode": {
    "name": "ipython",
    "version": 3
   },
   "file_extension": ".py",
   "mimetype": "text/x-python",
   "name": "python",
   "nbconvert_exporter": "python",
   "pygments_lexer": "ipython3",
   "version": "3.10.9"
  }
 },
 "nbformat": 4,
 "nbformat_minor": 2
}
