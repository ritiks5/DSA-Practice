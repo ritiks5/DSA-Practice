{
 "cells": [
  {
   "cell_type": "code",
   "execution_count": 1,
   "metadata": {},
   "outputs": [
    {
     "name": "stdout",
     "output_type": "stream",
     "text": [
      "[4, 32, 34, 56, 56, 89]\n"
     ]
    }
   ],
   "source": [
    "def merge(arr,low,mid,high):\n",
    "    cpy = [0]*len(arr)\n",
    "    i,k = low,low\n",
    "    j = mid + 1\n",
    "\n",
    "    while i <= mid and j <= high:\n",
    "        if arr[i] < arr[j]:\n",
    "            cpy[k] = arr[i]\n",
    "            i += 1\n",
    "        else:\n",
    "            cpy[k] = arr[j]\n",
    "            j += 1\n",
    "        k += 1\n",
    "\n",
    "    for i in range(i,mid+1):\n",
    "        cpy[k] = arr[i]\n",
    "        k += 1\n",
    "\n",
    "    for j in range(j,high+1):\n",
    "        cpy[k] = arr[j]\n",
    "        k += 1\n",
    "\n",
    "    for i in range(low,high+1):\n",
    "        arr[i] = cpy[i] \n",
    "\n",
    "    \n",
    "\n",
    "def mergesort(arr,lo,hi):\n",
    "    if lo < hi :\n",
    "        mid = (lo + hi)//2\n",
    "        mergesort(arr,lo,mid)\n",
    "        mergesort(arr,mid+1,hi)\n",
    "        merge(arr,lo,mid,hi)\n",
    "\n",
    "if __name__ == '__main__':\n",
    "    arr = [34,56,4,32,89,56]\n",
    "    mergesort(arr,0,len(arr)-1)\n",
    "    print(arr)"
   ]
  }
 ],
 "metadata": {
  "kernelspec": {
   "display_name": "base",
   "language": "python",
   "name": "python3"
  },
  "language_info": {
   "codemirror_mode": {
    "name": "ipython",
    "version": 3
   },
   "file_extension": ".py",
   "mimetype": "text/x-python",
   "name": "python",
   "nbconvert_exporter": "python",
   "pygments_lexer": "ipython3",
   "version": "3.10.9"
  }
 },
 "nbformat": 4,
 "nbformat_minor": 2
}
