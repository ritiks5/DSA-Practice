{
 "cells": [
  {
   "cell_type": "code",
   "execution_count": 5,
   "metadata": {},
   "outputs": [
    {
     "name": "stdout",
     "output_type": "stream",
     "text": [
      "True\n",
      "True\n",
      "False\n"
     ]
    }
   ],
   "source": [
    "def canconstruct(target,wordbank):\n",
    "    table = [False] * (len(target)+1)\n",
    "    table[0] = True\n",
    "\n",
    "    for i in range(len(table)):\n",
    "        if table[i] == True :\n",
    "            for word in wordbank:\n",
    "                if target[i:i+len(word)] == word:\n",
    "                    if i+len(word) <= len(target):\n",
    "                        table[i+len(word)] = True\n",
    "\n",
    "    return table[len(target)]\n",
    "\n",
    "\n",
    "\n",
    "print(canconstruct('potato',['pot','po','ot','at','ato']))\n",
    "print(canconstruct('enterapotentpot',['a','p','ent','enter','ot','o','t']))\n",
    "print(canconstruct('eeeeeeeeeeeeeeeeeeeeeeeeeeeeeeeeeeeeeeeeeeeeeeeeeeeeeeeeeeeeeeeeeeeeeeeeeeeeeeeeeeeeeeeeeeeeeeeeeeeeeeeeeeeeeeeef',['e','eeee','eee','eeee','eeeeee','eeeeeeeeeeeee','eeeeeeeeeeeee']))\n",
    "\n",
    "\n",
    "\n"
   ]
  }
 ],
 "metadata": {
  "kernelspec": {
   "display_name": "base",
   "language": "python",
   "name": "python3"
  },
  "language_info": {
   "codemirror_mode": {
    "name": "ipython",
    "version": 3
   },
   "file_extension": ".py",
   "mimetype": "text/x-python",
   "name": "python",
   "nbconvert_exporter": "python",
   "pygments_lexer": "ipython3",
   "version": "3.10.9"
  }
 },
 "nbformat": 4,
 "nbformat_minor": 2
}
