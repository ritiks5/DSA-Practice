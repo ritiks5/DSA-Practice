{
 "cells": [
  {
   "cell_type": "code",
   "execution_count": 6,
   "metadata": {},
   "outputs": [
    {
     "name": "stdout",
     "output_type": "stream",
     "text": [
      "2333606220\n"
     ]
    }
   ],
   "source": [
    "def gridtraveller(m:int,n:int,memo={}):\n",
    "    key = (m,n)\n",
    "\n",
    "    if key in memo:\n",
    "        return memo[key]\n",
    "    \n",
    "    if m==1 and n==1 : return 1\n",
    "    if m==0 or n==0 : return 0\n",
    "\n",
    "    memo[key] = gridtraveller(m-1,n,memo) + gridtraveller(m,n-1,memo)\n",
    "    return memo[key]\n",
    "\n",
    "print(gridtraveller(18,18))"
   ]
  }
 ],
 "metadata": {
  "kernelspec": {
   "display_name": "base",
   "language": "python",
   "name": "python3"
  },
  "language_info": {
   "codemirror_mode": {
    "name": "ipython",
    "version": 3
   },
   "file_extension": ".py",
   "mimetype": "text/x-python",
   "name": "python",
   "nbconvert_exporter": "python",
   "pygments_lexer": "ipython3",
   "version": "3.10.9"
  }
 },
 "nbformat": 4,
 "nbformat_minor": 2
}
