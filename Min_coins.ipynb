{
 "cells": [
  {
   "cell_type": "code",
   "execution_count": 3,
   "metadata": {},
   "outputs": [
    {
     "name": "stdout",
     "output_type": "stream",
     "text": [
      "Minimum coins required is 2\n"
     ]
    }
   ],
   "source": [
    "import sys\n",
    "\n",
    "def minCoins(coins, m, V):\n",
    " \n",
    "    # base case\n",
    "    if (V == 0):\n",
    "        return 0\n",
    " \n",
    "    # Initialize result\n",
    "    res = sys.maxsize\n",
    "     \n",
    "    # Try every coin that has smaller value than V\n",
    "    for i in range(0, m):\n",
    "        if (coins[i] <= V):\n",
    "            sub_res = minCoins(coins, m, V-coins[i])\n",
    " \n",
    "            # Check for INT_MAX to avoid overflow and see if\n",
    "            # result can minimized\n",
    "            if (sub_res != sys.maxsize and sub_res + 1 < res):\n",
    "                res = sub_res + 1\n",
    " \n",
    "    return res\n",
    " \n",
    "# Driver program to test above function\n",
    "coins = [9, 6, 5, 1]\n",
    "m = len(coins)\n",
    "V = 11\n",
    "print(\"Minimum coins required is\",minCoins(coins, m, V))\n",
    "    "
   ]
  },
  {
   "cell_type": "code",
   "execution_count": 18,
   "metadata": {},
   "outputs": [
    {
     "name": "stdout",
     "output_type": "stream",
     "text": [
      "Minimum coins required is 1\n"
     ]
    }
   ],
   "source": [
    "\n",
    "def mincoins(coins , n, target):\n",
    "    if target ==0:\n",
    "        return 0\n",
    "    \n",
    "    mincoin = float('inf')\n",
    "\n",
    "    for i in range(n):\n",
    "        if coins[i] <= target :\n",
    "            currcoins = mincoins(coins,n,target - coins[i])\n",
    "\n",
    "            if (currcoins != mincoin and currcoins + 1 < mincoin) :\n",
    "                mincoin = currcoins + 1\n",
    "\n",
    "    if mincoin < float('inf'):\n",
    "        return mincoin\n",
    "    return -1\n",
    "\n",
    "\n",
    "coins = [4,2]\n",
    "m = len(coins)\n",
    "V = 7\n",
    "print(\"Minimum coins required is\",mincoins(coins, m, V))"
   ]
  },
  {
   "cell_type": "code",
   "execution_count": 17,
   "metadata": {},
   "outputs": [
    {
     "name": "stdout",
     "output_type": "stream",
     "text": [
      "Minimum coins required is 2\n"
     ]
    }
   ],
   "source": [
    "import sys\n",
    "\n",
    "def mincoins(coins, n, target):\n",
    "    if target == 0:\n",
    "        return 0\n",
    "    \n",
    "    mincoin = sys.maxsize\n",
    "\n",
    "    for i in range(n):\n",
    "        if coins[i] <= target:\n",
    "            currcoins = mincoins(coins, n, target - coins[i])\n",
    "\n",
    "            if currcoins != sys.maxsize and currcoins + 1 < mincoin:\n",
    "                mincoin = currcoins + 1\n",
    "\n",
    "    if mincoin == sys.maxsize:\n",
    "        return -1\n",
    "    \n",
    "    return mincoin\n",
    "\n",
    "coins = [2,4]\n",
    "m = len(coins)\n",
    "V = 11\n",
    "print(\"Minimum coins required is\", mincoins(coins, m, V))"
   ]
  }
 ],
 "metadata": {
  "kernelspec": {
   "display_name": "base",
   "language": "python",
   "name": "python3"
  },
  "language_info": {
   "codemirror_mode": {
    "name": "ipython",
    "version": 3
   },
   "file_extension": ".py",
   "mimetype": "text/x-python",
   "name": "python",
   "nbconvert_exporter": "python",
   "pygments_lexer": "ipython3",
   "version": "3.10.9"
  }
 },
 "nbformat": 4,
 "nbformat_minor": 2
}
