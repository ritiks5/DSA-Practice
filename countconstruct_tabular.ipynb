{
 "cells": [
  {
   "cell_type": "code",
   "execution_count": 1,
   "metadata": {},
   "outputs": [
    {
     "name": "stdout",
     "output_type": "stream",
     "text": [
      "1\n",
      "4\n",
      "0\n"
     ]
    }
   ],
   "source": [
    "# time : O(n*m^2)\n",
    "\n",
    "def countconstruct(target,wordbank):\n",
    "    table = [0]*(len(target)+1)\n",
    "\n",
    "    table[0] = 1\n",
    "\n",
    "    for i in range(len(target)):\n",
    "        if table[i] > 0 :\n",
    "            for word in wordbank:\n",
    "                if target[i:i+len(word)] == word :\n",
    "                    if i+len(word) <= len(target):\n",
    "                        table[i+len(word)] +=table[i]\n",
    "\n",
    "\n",
    "    return table[len(target)]\n",
    "\n",
    "\n",
    "print(countconstruct('potato',['pot','po','ot','at','ato']))\n",
    "print(countconstruct('enterapotentpot',['a','p','ent','enter','ot','o','t']))\n",
    "print(countconstruct('eeeeeeeeeeeeeeeeeeeeeeeeeeeeeeeeeeeeeeeeeeeeeeeeeeeeeeeeeeeeeeeeeeeeeeeeeeeeeeeeeeeeeeeeeeeeeeeeeeeeeeeeeeeeeeeef',['e','eeee','eee','eeee','eeeeee','eeeeeeeeeeeee','eeeeeeeeeeeee']))\n",
    "\n",
    "\n"
   ]
  }
 ],
 "metadata": {
  "kernelspec": {
   "display_name": "base",
   "language": "python",
   "name": "python3"
  },
  "language_info": {
   "codemirror_mode": {
    "name": "ipython",
    "version": 3
   },
   "file_extension": ".py",
   "mimetype": "text/x-python",
   "name": "python",
   "nbconvert_exporter": "python",
   "pygments_lexer": "ipython3",
   "version": "3.10.9"
  }
 },
 "nbformat": 4,
 "nbformat_minor": 2
}
