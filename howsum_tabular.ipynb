{
 "cells": [
  {
   "cell_type": "code",
   "execution_count": 3,
   "metadata": {},
   "outputs": [
    {
     "name": "stdout",
     "output_type": "stream",
     "text": [
      "[4, 3]\n",
      "[5, 3, 3, 3]\n",
      "None\n",
      "None\n"
     ]
    }
   ],
   "source": [
    "def howsum(target,nums) : \n",
    "    table = [None]*(target+1)\n",
    "    table[0] = []\n",
    "\n",
    "    for i in range(target+1):\n",
    "        if table[i] is not None:\n",
    "            for num in nums:\n",
    "                if i+num <= target:\n",
    "                    table[i+num] = table[i] + [num]\n",
    "                \n",
    "\n",
    "    return table[target]\n",
    "\n",
    "\n",
    "print(howsum(7,[5,3,4,7]))\n",
    "print(howsum(14,[5,3,4]))\n",
    "print(howsum(27,[2]))\n",
    "print(howsum(300,[14,7]))\n",
    "\n",
    "\n"
   ]
  }
 ],
 "metadata": {
  "kernelspec": {
   "display_name": "base",
   "language": "python",
   "name": "python3"
  },
  "language_info": {
   "codemirror_mode": {
    "name": "ipython",
    "version": 3
   },
   "file_extension": ".py",
   "mimetype": "text/x-python",
   "name": "python",
   "nbconvert_exporter": "python",
   "pygments_lexer": "ipython3",
   "version": "3.10.9"
  }
 },
 "nbformat": 4,
 "nbformat_minor": 2
}
