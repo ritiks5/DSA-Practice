{
 "cells": [
  {
   "cell_type": "code",
   "execution_count": 11,
   "metadata": {},
   "outputs": [
    {
     "name": "stdout",
     "output_type": "stream",
     "text": [
      "[4, 3]\n",
      "[4, 5, 5]\n",
      "None\n"
     ]
    }
   ],
   "source": [
    "# recursive hai ... siliye slow hai bohot zyada\n",
    "# time : O(m*(n^m))\n",
    "# space : O(m)\n",
    "\n",
    "def havesum(target:int,nums:list):\n",
    "    if target == 0 : return []\n",
    "    if target < 0 : return None\n",
    "\n",
    "    for num in nums:\n",
    "        remainder = target - num\n",
    "        res = havesum(remainder, nums)\n",
    "        if res is not None:\n",
    "            return res + [num]\n",
    "        \n",
    "    return None\n",
    "\n",
    "print(havesum(7,[5,3,4,7]))\n",
    "print(havesum(14,[5,3,4]))\n",
    "print(havesum(27,[2]))\n",
    "# print(havesum(300,[14,7]))\n",
    "\n",
    "\n",
    "\n",
    "\n"
   ]
  },
  {
   "cell_type": "code",
   "execution_count": 10,
   "metadata": {},
   "outputs": [
    {
     "name": "stdout",
     "output_type": "stream",
     "text": [
      "[4, 3]\n",
      "[4, 5, 5]\n",
      "None\n",
      "None\n"
     ]
    }
   ],
   "source": [
    "# memoized Solution with\n",
    "# time : O(n*m^2)\n",
    "# space = O(m^2)\n",
    "\n",
    "def havesum(target:int,nums:list, memo = None):\n",
    "    if memo is None:\n",
    "        memo = {}\n",
    "\n",
    "    if target in memo : return memo[target]\n",
    "    if target == 0 : return []\n",
    "    if target < 0 : return None\n",
    "\n",
    "    for num in nums:\n",
    "        remainder = target - num\n",
    "        res = havesum(remainder, nums, memo)\n",
    "        if res is not None:\n",
    "            memo[target] = res + [num]\n",
    "            return memo[target]\n",
    "\n",
    "    memo[target] = None   \n",
    "    return None\n",
    "\n",
    "print(havesum(7,[5,3,4,7]))\n",
    "print(havesum(14,[5,3,4]))\n",
    "print(havesum(27,[2]))\n",
    "print(havesum(300,[14,7]))"
   ]
  }
 ],
 "metadata": {
  "kernelspec": {
   "display_name": "base",
   "language": "python",
   "name": "python3"
  },
  "language_info": {
   "codemirror_mode": {
    "name": "ipython",
    "version": 3
   },
   "file_extension": ".py",
   "mimetype": "text/x-python",
   "name": "python",
   "nbconvert_exporter": "python",
   "pygments_lexer": "ipython3",
   "version": "3.10.9"
  }
 },
 "nbformat": 4,
 "nbformat_minor": 2
}
