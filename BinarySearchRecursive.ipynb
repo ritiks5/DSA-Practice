{
 "cells": [
  {
   "cell_type": "code",
   "execution_count": 3,
   "metadata": {},
   "outputs": [],
   "source": [
    "def binary_search(arr,target,low,high):\n",
    "    if high < low :\n",
    "        return -1\n",
    "    \n",
    "    mid = (low+high)//2\n",
    "\n",
    "    if arr[mid] == target:\n",
    "        return mid\n",
    "    \n",
    "    elif arr[mid] < target :\n",
    "        return binary_search(arr,target,mid+1,high)\n",
    "\n",
    "    else:\n",
    "        return binary_search(arr,target,low,mid-1)\n",
    "    \n"
   ]
  },
  {
   "cell_type": "code",
   "execution_count": 6,
   "metadata": {},
   "outputs": [
    {
     "name": "stdout",
     "output_type": "stream",
     "text": [
      "9\n"
     ]
    }
   ],
   "source": [
    "arr = [1,3,5,6,8,9,11,14,18,29]\n",
    "n = len(arr)\n",
    "ans = binary_search(arr, 29 , 0 , n-1)\n",
    "print(ans)"
   ]
  }
 ],
 "metadata": {
  "kernelspec": {
   "display_name": "base",
   "language": "python",
   "name": "python3"
  },
  "language_info": {
   "codemirror_mode": {
    "name": "ipython",
    "version": 3
   },
   "file_extension": ".py",
   "mimetype": "text/x-python",
   "name": "python",
   "nbconvert_exporter": "python",
   "pygments_lexer": "ipython3",
   "version": "3.10.9"
  }
 },
 "nbformat": 4,
 "nbformat_minor": 2
}
