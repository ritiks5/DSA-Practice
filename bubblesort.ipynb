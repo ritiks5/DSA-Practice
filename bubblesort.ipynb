{
 "cells": [
  {
   "cell_type": "code",
   "execution_count": 2,
   "metadata": {},
   "outputs": [
    {
     "name": "stdout",
     "output_type": "stream",
     "text": [
      "[11, 32, 33, 43, 55, 67, 89, 222]\n"
     ]
    }
   ],
   "source": [
    "def bubblesort(a):\n",
    "    n = len(a)\n",
    "\n",
    "    for i in range(0,n):\n",
    "        swapped = False\n",
    "        for j in range(0,n-i-1):\n",
    "            if a[j] > a[j+1]:\n",
    "                a[j],a[j+1] = a[j+1],a[j]\n",
    "                swapped = True\n",
    "        if swapped == False:\n",
    "            return\n",
    "        \n",
    "if __name__ == '__main__':\n",
    "    arr = [32,43,55,33,11,222,67,89]\n",
    "    bubblesort(arr)\n",
    "    print(arr)\n",
    "        \n"
   ]
  }
 ],
 "metadata": {
  "kernelspec": {
   "display_name": "Python 3",
   "language": "python",
   "name": "python3"
  },
  "language_info": {
   "codemirror_mode": {
    "name": "ipython",
    "version": 3
   },
   "file_extension": ".py",
   "mimetype": "text/x-python",
   "name": "python",
   "nbconvert_exporter": "python",
   "pygments_lexer": "ipython3",
   "version": "3.11.1"
  }
 },
 "nbformat": 4,
 "nbformat_minor": 2
}
