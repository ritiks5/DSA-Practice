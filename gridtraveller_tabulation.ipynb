{
 "cells": [
  {
   "cell_type": "code",
   "execution_count": 7,
   "metadata": {},
   "outputs": [
    {
     "name": "stdout",
     "output_type": "stream",
     "text": [
      "6\n",
      "2333606220\n"
     ]
    }
   ],
   "source": [
    "def gt_tabulation(m:int,n:int):\n",
    "    table = [[0] * (m+1) for _ in range(n+1)]\n",
    "    table[1][1] = 1\n",
    "    \n",
    "    for i in range(m+1):\n",
    "        for j in range(n+1):\n",
    "            if i+1 <= m :\n",
    "                table[i+1][j] += table[i][j]\n",
    "            if j+1 <= n :\n",
    "                table[i][j+1] += table[i][j]\n",
    "    print(table[m][n])\n",
    "\n",
    "gt_tabulation(3,3)\n",
    "gt_tabulation(18,18)\n"
   ]
  }
 ],
 "metadata": {
  "kernelspec": {
   "display_name": "base",
   "language": "python",
   "name": "python3"
  },
  "language_info": {
   "codemirror_mode": {
    "name": "ipython",
    "version": 3
   },
   "file_extension": ".py",
   "mimetype": "text/x-python",
   "name": "python",
   "nbconvert_exporter": "python",
   "pygments_lexer": "ipython3",
   "version": "3.10.9"
  }
 },
 "nbformat": 4,
 "nbformat_minor": 2
}
