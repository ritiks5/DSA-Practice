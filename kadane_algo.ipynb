{
 "cells": [
  {
   "cell_type": "code",
   "execution_count": 4,
   "metadata": {},
   "outputs": [
    {
     "name": "stdout",
     "output_type": "stream",
     "text": [
      "23\n"
     ]
    }
   ],
   "source": [
    "def kadane(nums):\n",
    "    maxsum=-10**6\n",
    "\n",
    "    currsum=0\n",
    "    i=0\n",
    "    while i<len(nums):\n",
    "        currsum+=nums[i]\n",
    "        if currsum<0:\n",
    "            currsum=0\n",
    "        else:\n",
    "            maxsum=max(maxsum,currsum)\n",
    "        i+=1\n",
    "    return maxsum\n",
    "\n",
    "nums = [5,4,-1,7,8]\n",
    "sum = kadane(nums)\n",
    "print(sum)"
   ]
  }
 ],
 "metadata": {
  "kernelspec": {
   "display_name": "base",
   "language": "python",
   "name": "python3"
  },
  "language_info": {
   "codemirror_mode": {
    "name": "ipython",
    "version": 3
   },
   "file_extension": ".py",
   "mimetype": "text/x-python",
   "name": "python",
   "nbconvert_exporter": "python",
   "pygments_lexer": "ipython3",
   "version": "3.10.9"
  }
 },
 "nbformat": 4,
 "nbformat_minor": 2
}
