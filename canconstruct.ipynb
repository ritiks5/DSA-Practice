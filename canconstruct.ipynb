{
 "cells": [
  {
   "cell_type": "code",
   "execution_count": 10,
   "metadata": {},
   "outputs": [
    {
     "name": "stdout",
     "output_type": "stream",
     "text": [
      "True\n",
      "True\n",
      "False\n"
     ]
    }
   ],
   "source": [
    "# recursive \n",
    "# time : m * n^m\n",
    "# space : O(m^2)\n",
    "\n",
    "def canconstruct(target:str,wordbank:list):\n",
    "    if target == '':\n",
    "        return True\n",
    "    \n",
    "    for word in wordbank:\n",
    "        if target.startswith(word) == 0 :\n",
    "            rem = target[len(word):]\n",
    "            if canconstruct(rem, wordbank):\n",
    "                return True\n",
    "            \n",
    "    return False\n",
    "\n",
    "print(canconstruct('potato',['pot','po','ot','at','ato']))\n",
    "print(canconstruct('enterapotentpot',['a','p','ent','enter','ot','o','t']))\n",
    "print(canconstruct('eeeeeeeeeeeeeeeeeeeeeeeeeeeeeeeeeeeeeeeeeeeeeeeeeeeeeeeeeeeeeeeeeeeeeeeeeeeeeeeeeeeeeeeeeeeeeeeeeeeeeeeeeeeeeeeef',['e','eeee','eee','eeee','eeeeee','eeeeeeeeeeeee','eeeeeeeeeeeee']))"
   ]
  },
  {
   "cell_type": "code",
   "execution_count": 11,
   "metadata": {},
   "outputs": [
    {
     "name": "stdout",
     "output_type": "stream",
     "text": [
      "True\n",
      "True\n",
      "False\n"
     ]
    }
   ],
   "source": [
    "# recursive \n",
    "# time : \n",
    "# space : \n",
    "\n",
    "def canconstructdp(target:str,wordbank:list,memo = None):\n",
    "    if memo is None :\n",
    "        memo = {}\n",
    "\n",
    "    if target in memo: return memo[target]\n",
    "    if target == '':\n",
    "        return True\n",
    "    \n",
    "    for word in wordbank:\n",
    "        if target.startswith(word) == 0 :\n",
    "            rem = target[len(word):]\n",
    "            if canconstructdp(rem, wordbank, memo):\n",
    "                memo[target] = True\n",
    "                return memo[target]\n",
    "\n",
    "    memo[target] = False        \n",
    "    return False\n",
    "\n",
    "print(canconstructdp('potato',['pot','po','ot','at','ato']))\n",
    "print(canconstructdp('enterapotentpot',['a','p','ent','enter','ot','o','t']))\n",
    "print(canconstructdp('eeeeeeeeeeeeeeeeeeeeeeeeeeeeeeeeeeeeeeeeeeeeeeeeeeeeeeeeeeeeeeeeeeeeeeeeeeeeeeeeeeeeeeeeeeeeeeeeeeeeeeeeeeeeeeeef',['e','eeee','eee','eeee','eeeeee','eeeeeeeeeeeee','eeeeeeeeeeeee']))"
   ]
  }
 ],
 "metadata": {
  "kernelspec": {
   "display_name": "base",
   "language": "python",
   "name": "python3"
  },
  "language_info": {
   "codemirror_mode": {
    "name": "ipython",
    "version": 3
   },
   "file_extension": ".py",
   "mimetype": "text/x-python",
   "name": "python",
   "nbconvert_exporter": "python",
   "pygments_lexer": "ipython3",
   "version": "3.10.9"
  }
 },
 "nbformat": 4,
 "nbformat_minor": 2
}
