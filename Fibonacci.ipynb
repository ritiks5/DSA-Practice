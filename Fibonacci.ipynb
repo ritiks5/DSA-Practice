{
 "cells": [
  {
   "cell_type": "code",
   "execution_count": 6,
   "metadata": {},
   "outputs": [
    {
     "name": "stdout",
     "output_type": "stream",
     "text": [
      "14930352\n"
     ]
    }
   ],
   "source": [
    "def fib_rec(n:int):\n",
    "    if n==1 or n==2:\n",
    "        return 1\n",
    "    return fib_rec(n-1) + fib_rec(n-2)\n",
    "\n",
    "print(fib_rec(36))"
   ]
  },
  {
   "cell_type": "code",
   "execution_count": 9,
   "metadata": {},
   "outputs": [
    {
     "name": "stdout",
     "output_type": "stream",
     "text": [
      "12586269025\n"
     ]
    }
   ],
   "source": [
    "def fibdp(n:int,memo = {}):\n",
    "    if n in memo:\n",
    "        return memo[n]\n",
    "    \n",
    "    if n<=2:\n",
    "        return 1\n",
    "    \n",
    "    memo[n] = fibdp(n-1,memo) + fibdp(n-2,memo)\n",
    "    return memo[n]\n",
    "\n",
    "print(fibdp(50))"
   ]
  }
 ],
 "metadata": {
  "kernelspec": {
   "display_name": "base",
   "language": "python",
   "name": "python3"
  },
  "language_info": {
   "codemirror_mode": {
    "name": "ipython",
    "version": 3
   },
   "file_extension": ".py",
   "mimetype": "text/x-python",
   "name": "python",
   "nbconvert_exporter": "python",
   "pygments_lexer": "ipython3",
   "version": "3.10.9"
  }
 },
 "nbformat": 4,
 "nbformat_minor": 2
}
