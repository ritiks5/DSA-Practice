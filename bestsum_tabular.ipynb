{
 "cells": [
  {
   "cell_type": "code",
   "execution_count": 6,
   "metadata": {},
   "outputs": [
    {
     "name": "stdout",
     "output_type": "stream",
     "text": [
      "[7]\n",
      "[4, 5]\n",
      "None\n",
      "None\n"
     ]
    }
   ],
   "source": [
    "def bestsum(target,nums) : \n",
    "    table = [None]*(target+1)\n",
    "    table[0] = []\n",
    "\n",
    "    for i in range(target+1):\n",
    "        if table[i] is not None:\n",
    "            for num in nums:\n",
    "                if i+num <= target:\n",
    "                    combination = table[i] + [num]\n",
    "                    if table[i+num] is None or len(table[i+num]) > len(combination):\n",
    "                        table[i+num] = combination\n",
    "                \n",
    "\n",
    "    return table[target]\n",
    "\n",
    "\n",
    "print(bestsum(7,[5,3,4,7]))\n",
    "print(bestsum(9,[3,5,4]))\n",
    "print(bestsum(27,[2]))\n",
    "print(bestsum(300,[14,7]))"
   ]
  }
 ],
 "metadata": {
  "kernelspec": {
   "display_name": "base",
   "language": "python",
   "name": "python3"
  },
  "language_info": {
   "codemirror_mode": {
    "name": "ipython",
    "version": 3
   },
   "file_extension": ".py",
   "mimetype": "text/x-python",
   "name": "python",
   "nbconvert_exporter": "python",
   "pygments_lexer": "ipython3",
   "version": "3.10.9"
  }
 },
 "nbformat": 4,
 "nbformat_minor": 2
}
